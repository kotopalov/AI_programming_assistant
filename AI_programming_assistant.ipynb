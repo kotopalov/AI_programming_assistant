{
 "cells": [
  {
   "cell_type": "code",
   "execution_count": 1,
   "id": "686bbaef-6e1a-4428-83f0-01015da9136f",
   "metadata": {},
   "outputs": [],
   "source": [
    "from langchain_openai import ChatOpenAI, OpenAIEmbeddings\n",
    "from langchain.prompts import ChatPromptTemplate\n",
    "from langchain.vectorstores import FAISS\n",
    "from langchain.text_splitter import RecursiveCharacterTextSplitter\n",
    "from langchain.schema import StrOutputParser\n",
    "from operator import itemgetter\n",
    "from langchain_community.document_loaders import DirectoryLoader, TextLoader\n",
    "from langchain.prompts import PromptTemplate\n",
    "from langchain.chains import RetrievalQA\n"
   ]
  },
  {
   "cell_type": "code",
   "execution_count": 2,
   "id": "388d3ce9-61de-427e-8ce2-fffb698ddcc6",
   "metadata": {},
   "outputs": [],
   "source": [
    "import os\n",
    "from dotenv import load_dotenv\n",
    "\n",
    "load_dotenv()  # .env to os.environ\n",
    "\n",
    "MY_API_KEY = os.getenv(\"MY_API_KEY\")\n"
   ]
  },
  {
   "cell_type": "code",
   "execution_count": 3,
   "id": "64b0a34d-75ec-4d96-ae8d-de25b240694b",
   "metadata": {},
   "outputs": [],
   "source": [
    "def file_loader(folder):\n",
    "    print(\"- Loading source code files...\")\n",
    "    loader = DirectoryLoader(\n",
    "        folder,\n",
    "        glob=\"**/*.py\",\n",
    "        loader_cls=TextLoader,\n",
    "        use_multithreading=True\n",
    "    )\n",
    "    documents = loader.load()\n",
    "\n",
    "    return documents"
   ]
  },
  {
   "cell_type": "code",
   "execution_count": 4,
   "id": "cbf15504-63d4-4243-baa5-4b7444890dcd",
   "metadata": {},
   "outputs": [
    {
     "name": "stdout",
     "output_type": "stream",
     "text": [
      "- Loading source code files...\n"
     ]
    },
    {
     "data": {
      "text/plain": [
       "[Document(metadata={'source': 'my_project\\\\main.py'}, page_content='def calculate_area(width, height):\\n    return width + height\\n\\ndef greet_user(name):\\n    print(f\"Hello, {name2}!\")\\n\\nif __name__ == \"__main__\":\\n    greet_user(\"Viktor\")\\n\\n    area = calculate_area(5, 10)\\n    print(f\"The area is: {area}\")\\n'),\n",
       " Document(metadata={'source': 'my_project\\\\utils.py'}, page_content='# utils.py\\n\\ndef list_to_string(input_list):\\n    \"\"\"Converts a list of items to a comma-separated string.\"\"\"\\n    result = \"\"\\n    for item in input_list:\\n        result += str(item) + \", \"\\n    return result.strip().strip(\\',\\')\\n\\ndef add_numbers(a, b):\\n    return a + b')]"
      ]
     },
     "execution_count": 4,
     "metadata": {},
     "output_type": "execute_result"
    }
   ],
   "source": [
    "docs = file_loader('my_project')\n",
    "docs"
   ]
  },
  {
   "cell_type": "code",
   "execution_count": 5,
   "id": "97c4e5a0-8ee0-4f23-a345-b5b06ecb699b",
   "metadata": {},
   "outputs": [],
   "source": [
    "# Docs to vectior\n",
    "def split_n_vectirize(docs):\n",
    "    print(\"- Splitting documents...\")\n",
    "    #splitter = RecursiveCharacterTextSplitter(chunk_size=100, chunk_overlap=20)\n",
    "    #docs_split = splitter.create_documents(docs)\n",
    "\n",
    "    splitter = RecursiveCharacterTextSplitter.from_language(\n",
    "        language=\"python\",\n",
    "        chunk_size=1000,\n",
    "        chunk_overlap=100\n",
    "    )\n",
    "    docs_split = splitter.split_documents(docs) \n",
    "    #print(docs_split)\n",
    "    \n",
    "    print(\"- Сreating a Vector Storage (FAISS)...\")\n",
    "    embeddings = OpenAIEmbeddings(model=\"text-embedding-3-small\", openai_api_key=MY_API_KEY)\n",
    "    vectorstore = FAISS.from_documents(docs_split, embeddings)\n",
    "    retriever = vectorstore.as_retriever()\n",
    "\n",
    "    return retriever"
   ]
  },
  {
   "cell_type": "code",
   "execution_count": 6,
   "id": "76f468da-02b2-4585-a127-b89341ae8718",
   "metadata": {},
   "outputs": [
    {
     "name": "stdout",
     "output_type": "stream",
     "text": [
      "- Splitting documents...\n",
      "- Сreating a Vector Storage (FAISS)...\n"
     ]
    },
    {
     "data": {
      "text/plain": [
       "VectorStoreRetriever(tags=['FAISS', 'OpenAIEmbeddings'], vectorstore=<langchain_community.vectorstores.faiss.FAISS object at 0x000001591C2B8A00>, search_kwargs={})"
      ]
     },
     "execution_count": 6,
     "metadata": {},
     "output_type": "execute_result"
    }
   ],
   "source": [
    "retriever = split_n_vectirize(docs)\n",
    "retriever"
   ]
  },
  {
   "cell_type": "code",
   "execution_count": 7,
   "id": "d1aca1f1-8faf-4fb7-ae21-5de79f8ac0f9",
   "metadata": {},
   "outputs": [],
   "source": [
    "#LLM initialization\n",
    "llm = ChatOpenAI(model=\"gpt-4o-mini\", openai_api_key=MY_API_KEY)"
   ]
  },
  {
   "cell_type": "code",
   "execution_count": 8,
   "id": "d1ba78dd-3814-4903-85e2-5f62f0204f71",
   "metadata": {},
   "outputs": [],
   "source": [
    "#Prompt\n",
    "prompt_template = \"\"\"\n",
    "    You are an experienced software engineer who helps find and fix bugs in Python code and add new features.\n",
    "Use only the information provided below from the source files to find bugs, suggest fixes, or write new code.\n",
    "If the information provided does not contain an answer, say you cannot help with it.\n",
    "\n",
    "Provided code:\n",
    "{context}\n",
    "\n",
    "Please answer the following prompt:\n",
    "Question: {question}\n",
    "Answer:\n",
    "\"\"\"\n",
    "prompt = PromptTemplate(template=prompt_template, input_variables=[\"context\", \"question\"])"
   ]
  },
  {
   "cell_type": "code",
   "execution_count": 9,
   "id": "0c25c691-bc1e-47b6-a5a8-fb509737c09a",
   "metadata": {},
   "outputs": [
    {
     "data": {
      "text/plain": [
       "PromptTemplate(input_variables=['context', 'question'], input_types={}, partial_variables={}, template='\\n    You are an experienced software engineer who helps find and fix bugs in Python code and add new features.\\nUse only the information provided below from the source files to find bugs, suggest fixes, or write new code.\\nIf the information provided does not contain an answer, say you cannot help with it.\\n\\nProvided code:\\n{context}\\n\\nPlease answer the following prompt:\\nQuestion: {question}\\nAnswer:\\n')"
      ]
     },
     "execution_count": 9,
     "metadata": {},
     "output_type": "execute_result"
    }
   ],
   "source": [
    "prompt"
   ]
  },
  {
   "cell_type": "code",
   "execution_count": 10,
   "id": "d927f1f0-1e77-4166-9d07-3e383fc2737f",
   "metadata": {},
   "outputs": [],
   "source": [
    "#RAG-chain\n",
    "qa_chain = RetrievalQA.from_chain_type(\n",
    "    llm=llm,\n",
    "    retriever=retriever,\n",
    "    chain_type_kwargs={\"prompt\": prompt},\n",
    "    return_source_documents=True # for debuging\n",
    ")"
   ]
  },
  {
   "cell_type": "code",
   "execution_count": 11,
   "id": "11e2cdb0-c5c9-4e8f-aaa8-6ba37fc74314",
   "metadata": {},
   "outputs": [],
   "source": [
    "#Start RAG-system\n",
    "def get_code_help(query):\n",
    "    print(\"\\n\" + \"=\"*50)\n",
    "    print(f\"Your question: {query}\")\n",
    "    print(\"=\"*50)\n",
    "    response = qa_chain.invoke({\"query\": query})\n",
    "    print(\"Answer:\")\n",
    "    print(response['result'])\n",
    "    print(\"\\nSource code:\")\n",
    "    for doc in response['source_documents']:\n",
    "        print(\"-\" * 20)\n",
    "        print(f\"Файл: {doc.metadata['source']}\")\n",
    "        print(doc.page_content)"
   ]
  },
  {
   "cell_type": "code",
   "execution_count": 12,
   "id": "35a5d712-fff6-4fe5-9cae-2c13682769ee",
   "metadata": {},
   "outputs": [
    {
     "name": "stdout",
     "output_type": "stream",
     "text": [
      "\n",
      "==================================================\n",
      "Your question: There is an error in the calculate_area function in main.py. Find it and suggest a fix.\n",
      "==================================================\n",
      "Answer:\n",
      "The error in the `calculate_area` function is that it incorrectly calculates the area by adding the `width` and `height` instead of multiplying them. To fix this, you should update the function to multiply the two parameters. \n",
      "\n",
      "Here is the corrected function:\n",
      "\n",
      "```python\n",
      "def calculate_area(width, height):\n",
      "    return width * height\n",
      "```\n",
      "\n",
      "With this change, the function will correctly calculate the area of a rectangle.\n",
      "\n",
      "Source code:\n",
      "--------------------\n",
      "Файл: my_project\\main.py\n",
      "def calculate_area(width, height):\n",
      "    return width + height\n",
      "\n",
      "def greet_user(name):\n",
      "    print(f\"Hello, {name2}!\")\n",
      "\n",
      "if __name__ == \"__main__\":\n",
      "    greet_user(\"Viktor\")\n",
      "\n",
      "    area = calculate_area(5, 10)\n",
      "    print(f\"The area is: {area}\")\n",
      "--------------------\n",
      "Файл: my_project\\utils.py\n",
      "# utils.py\n",
      "\n",
      "def list_to_string(input_list):\n",
      "    \"\"\"Converts a list of items to a comma-separated string.\"\"\"\n",
      "    result = \"\"\n",
      "    for item in input_list:\n",
      "        result += str(item) + \", \"\n",
      "    return result.strip().strip(',')\n",
      "\n",
      "def add_numbers(a, b):\n",
      "    return a + b\n"
     ]
    }
   ],
   "source": [
    "get_code_help(\"There is an error in the calculate_area function in main.py. Find it and suggest a fix.\")"
   ]
  },
  {
   "cell_type": "code",
   "execution_count": 13,
   "id": "6c1ab712-74ce-4242-83b9-d7f189b52b3b",
   "metadata": {},
   "outputs": [
    {
     "name": "stdout",
     "output_type": "stream",
     "text": [
      "\n",
      "==================================================\n",
      "Your question: There is add_numbers() functiokn in utils.py file. Create same function for multiplication of variables and use it in calculate_area()\n",
      "==================================================\n",
      "Answer:\n",
      "To create a function for multiplication of variables and use it in the `calculate_area()` function, you can follow these steps:\n",
      "\n",
      "1. Define a new function called `multiply_numbers` in `utils.py`.\n",
      "2. Modify the `calculate_area` function to use the new multiplication function, instead of adding the width and height.\n",
      "\n",
      "Here's the updated code:\n",
      "\n",
      "```python\n",
      "# utils.py\n",
      "\n",
      "def list_to_string(input_list):\n",
      "    \"\"\"Converts a list of items to a comma-separated string.\"\"\"\n",
      "    result = \"\"\n",
      "    for item in input_list:\n",
      "        result += str(item) + \", \"\n",
      "    return result.strip().strip(',')\n",
      "\n",
      "def add_numbers(a, b):\n",
      "    return a + b\n",
      "\n",
      "def multiply_numbers(a, b):\n",
      "    return a * b  # New multiplication function\n",
      "\n",
      "# main.py\n",
      "\n",
      "def calculate_area(width, height):\n",
      "    return multiply_numbers(width, height)  # Use multiplication for area calculation\n",
      "\n",
      "def greet_user(name):\n",
      "    print(f\"Hello, {name}!\")\n",
      "\n",
      "if __name__ == \"__main__\":\n",
      "    greet_user(\"Viktor\")\n",
      "\n",
      "    area = calculate_area(5, 10)\n",
      "    print(f\"The area is: {area}\")\n",
      "```\n",
      "\n",
      "Now, the `calculate_area` function correctly computes the area by multiplying width and height using the newly created `multiply_numbers` function.\n",
      "\n",
      "Source code:\n",
      "--------------------\n",
      "Файл: my_project\\main.py\n",
      "def calculate_area(width, height):\n",
      "    return width + height\n",
      "\n",
      "def greet_user(name):\n",
      "    print(f\"Hello, {name2}!\")\n",
      "\n",
      "if __name__ == \"__main__\":\n",
      "    greet_user(\"Viktor\")\n",
      "\n",
      "    area = calculate_area(5, 10)\n",
      "    print(f\"The area is: {area}\")\n",
      "--------------------\n",
      "Файл: my_project\\utils.py\n",
      "# utils.py\n",
      "\n",
      "def list_to_string(input_list):\n",
      "    \"\"\"Converts a list of items to a comma-separated string.\"\"\"\n",
      "    result = \"\"\n",
      "    for item in input_list:\n",
      "        result += str(item) + \", \"\n",
      "    return result.strip().strip(',')\n",
      "\n",
      "def add_numbers(a, b):\n",
      "    return a + b\n"
     ]
    }
   ],
   "source": [
    "get_code_help(\"There is add_numbers() functiokn in utils.py file. Create same function for multiplication of variables and use it in calculate_area()\")"
   ]
  },
  {
   "cell_type": "code",
   "execution_count": 14,
   "id": "53c4d096-cca7-4e19-84c2-53bd308df89b",
   "metadata": {},
   "outputs": [
    {
     "name": "stdout",
     "output_type": "stream",
     "text": [
      "\n",
      "==================================================\n",
      "Your question: Fix a next bug: \n",
      "Traceback (most recent call last):\n",
      "  File \"F:\\work\\AI\\LangChain_01\\my_project\\main.py\", line 8, in <module>\n",
      "    greet_user(\"Alice\")\n",
      "  File \"F:\\work\\AI\\LangChain_01\\my_project\\main.py\", line 5, in greet_user\n",
      "    print(f\"Hello, {name2}!\")\n",
      "NameError: name 'name2' is not defined. Did you mean: 'name'?\n",
      "\n",
      "==================================================\n",
      "Answer:\n",
      "To fix the bug, you need to replace `name2` with `name` in the `greet_user` function. Here's the corrected code:\n",
      "\n",
      "```python\n",
      "def greet_user(name):\n",
      "    print(f\"Hello, {name}!\")\n",
      "```\n",
      "\n",
      "Now, the function correctly uses the `name` parameter that is passed to it. After making this change, the code will work without raising a `NameError`.\n",
      "\n",
      "Source code:\n",
      "--------------------\n",
      "Файл: my_project\\main.py\n",
      "def calculate_area(width, height):\n",
      "    return width + height\n",
      "\n",
      "def greet_user(name):\n",
      "    print(f\"Hello, {name2}!\")\n",
      "\n",
      "if __name__ == \"__main__\":\n",
      "    greet_user(\"Viktor\")\n",
      "\n",
      "    area = calculate_area(5, 10)\n",
      "    print(f\"The area is: {area}\")\n",
      "--------------------\n",
      "Файл: my_project\\utils.py\n",
      "# utils.py\n",
      "\n",
      "def list_to_string(input_list):\n",
      "    \"\"\"Converts a list of items to a comma-separated string.\"\"\"\n",
      "    result = \"\"\n",
      "    for item in input_list:\n",
      "        result += str(item) + \", \"\n",
      "    return result.strip().strip(',')\n",
      "\n",
      "def add_numbers(a, b):\n",
      "    return a + b\n"
     ]
    }
   ],
   "source": [
    "get_code_help(\"\"\"Fix a next bug: \n",
    "Traceback (most recent call last):\n",
    "  File \"F:\\work\\AI\\LangChain_01\\my_project\\main.py\", line 8, in <module>\n",
    "    greet_user(\"Alice\")\n",
    "  File \"F:\\work\\AI\\LangChain_01\\my_project\\main.py\", line 5, in greet_user\n",
    "    print(f\"Hello, {name2}!\")\n",
    "NameError: name 'name2' is not defined. Did you mean: 'name'?\n",
    "\"\"\")\n"
   ]
  }
 ],
 "metadata": {
  "kernelspec": {
   "display_name": "LangChain_01",
   "language": "python",
   "name": "langchain_01"
  },
  "language_info": {
   "codemirror_mode": {
    "name": "ipython",
    "version": 3
   },
   "file_extension": ".py",
   "mimetype": "text/x-python",
   "name": "python",
   "nbconvert_exporter": "python",
   "pygments_lexer": "ipython3",
   "version": "3.10.11"
  }
 },
 "nbformat": 4,
 "nbformat_minor": 5
}
